# Import the modules
import numpy as np
import pandas as pd
from pathlib import Path
from sklearn.metrics import balanced_accuracy_score, confusion_matrix, classification_report











# Read the CSV file from the Resources folder into a Pandas DataFrame
df_lending_data = pd.read_csv(Path("Resources/lending_data.csv"))

# Review the DataFrame
df_lending_data





# Separate the data into labels and features
# Separate the y variable, the labels
y = df_lending_data["loan_status"]

# Separate the X variable, the features
X = df_lending_data[["loan_size","interest_rate","borrower_income","debt_to_income","num_of_accounts","derogatory_marks","total_debt"]]


# Review the y variable Series
y


# Review the X variable DataFrame
X





# Check the balance of our target values
y.value_counts()





# Import the train_test_learn module
from sklearn.model_selection import train_test_split

# Split the data using train_test_split
# Assign a random_state of 1 to the function
X_train, X_test, y_train, y_test = train_test_split(X, y, random_state=1)











# Import the LogisticRegression module from SKLearn
from sklearn.linear_model import LogisticRegression

# Instantiate the Logistic Regression model
# Assign a random_state parameter of 1 to the model
model_classifier = LogisticRegression(solver="lbfgs", random_state=1)

# Fit the model using training data
model_classifier.fit(X_train, y_train)





# Make a prediction using the testing data
predictions = model_classifier.predict(X_test)





# Print the balanced_accuracy score of the model
balanced_accuracy_score(y_test, predictions)


# Generate a confusion matrix for the model
cm = confusion_matrix(y_test, predictions)
cm_df = pd.DataFrame(
    cm, index=["Actual 0", "Actual 1"], columns=["Predicted 0", "Predicted 1"]
)
cm_df


# Print the classification report for the model
print(classification_report(y_test, predictions))

















# Import the RandomOverSampler module form imbalanced-learn
from imblearn.over_sampling import RandomOverSampler

# Instantiate the random oversampler model
# # Assign a random_state parameter of 1 to the model
random_oversampler = RandomOverSampler(random_state=1)

# Fit the original training data to the random_oversampler model
X_res, y_res = random_oversampler.fit_resample(X_train, y_train)


from collections import Counter
# Count the distinct values of the resampled labels data
Counter(y_res)





# Instantiate the Logistic Regression model
# Assign a random_state parameter of 1 to the model
model_classifier_res = LogisticRegression(random_state=1)

# Fit the model using the resampled training data
model_classifier_res.fit(X_res, y_res)

# Make a prediction using the testing data
y_res_pred = model_classifier_res.predict(X_test)





# Print the balanced_accuracy score of the model 
print(balanced_accuracy_score(y_test, y_res_pred))


# Generate a confusion matrix for the model
cm_res = confusion_matrix(y_test, y_res_pred)
cm_res_df = pd.DataFrame(
    cm_res, index=["Actual 0", "Actual 1"], columns=["Predicted 0", "Predicted 1"]
)
cm_res_df


# Print the classification report for the model
print(classification_report(y_test, y_res_pred))






